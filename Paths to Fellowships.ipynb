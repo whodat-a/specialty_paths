{
 "cells": [
  {
   "cell_type": "markdown",
   "metadata": {},
   "source": [
    "Import the libraries we will be using. Right now that is beautiful soup."
   ]
  },
  {
   "cell_type": "code",
   "execution_count": 14,
   "metadata": {
    "collapsed": true
   },
   "outputs": [],
   "source": [
    "from bs4 import BeautifulSoup\n",
    "import urllib\n",
    "import json\n",
    "import re"
   ]
  },
  {
   "cell_type": "markdown",
   "metadata": {},
   "source": [
    "Grab the website"
   ]
  },
  {
   "cell_type": "code",
   "execution_count": 2,
   "metadata": {
    "collapsed": false
   },
   "outputs": [
    {
     "name": "stdout",
     "output_type": "stream",
     "text": [
      "<class 'bs4.BeautifulSoup'>\n"
     ]
    }
   ],
   "source": [
    "nrmp_page = urllib.urlopen(\"http://www.nrmp.org/participating-fellowships/\").read()\n",
    "nrmp_soup = BeautifulSoup(nrmp_page)\n",
    "print type(nrmp_soup)"
   ]
  },
  {
   "cell_type": "code",
   "execution_count": 3,
   "metadata": {
    "collapsed": false
   },
   "outputs": [
    {
     "name": "stdout",
     "output_type": "stream",
     "text": [
      "<!DOCTYPE html>\n",
      "<html lang=\"en-US\">\n",
      " <head>\n",
      "  <meta charset=\"utf-8\"/>\n",
      "  <meta content=\"width=1150\" name=\"viewport\"/>\n",
      "  <link href=\"http://gmpg.org/xfn/11\" rel=\"profile\"/>\n",
      "  <link href=\"http://www.nrmp.org/xmlrpc.php\" rel=\"pingback\"/>\n",
      "  <title>\n",
      "   Participating Fellowships |\n",
      "  </title>\n",
      "  <link href=\"http://www.nrmp.org/participating-fellowships/feed/\" rel=\"alternate\" title=\"The Match, National Resident Matching Program » Participating Fellowships Comments Feed\" type=\"application/rss+xml\"/>\n",
      "  <script type=\"text/javascript\">\n",
      "   window._wpemojiSettings = {\"baseUrl\":\"http:\\/\\/s.w.org\\/images\\/core\\/emoji\\/72x72\\/\",\"ext\":\".png\",\"source\":{\"concatemoji\":\"http:\\/\\/www.nrmp.org\\/wp-includes\\/js\\/wp-emoji-release.min.js?ver=4.3\"}};\n",
      "\t\t\t!function(a,b,c){function d(a){var c=b.createElement(\"canvas\"),d=c.getContext&&c.getContext(\"2d\");return d&&d.fillText?(d.textBaseline=\"top\",d.font=\"600 32px Arial\",\"flag\"===a?(d.fillText(String.fromCharCode(55356,56812,55356,56807),0,0),c.toDataURL().length>3e3):(d\n"
     ]
    }
   ],
   "source": [
    "print nrmp_soup.prettify()[0:1000]"
   ]
  },
  {
   "cell_type": "markdown",
   "metadata": {},
   "source": [
    "I searched on the NRMP page for the parent class that encompases all of the fellowships. This had the class `main-box`."
   ]
  },
  {
   "cell_type": "code",
   "execution_count": 4,
   "metadata": {
    "collapsed": false
   },
   "outputs": [
    {
     "data": {
      "text/plain": [
       "[<div class=\"main-box\">\n",
       " <h2>FELLOWSHIP MATCHES</h2>\n",
       " <a class=\"individual-boxSMALL\" href=\"http://www.nrmp.org/fellowships/abdominal-transplant-surgery-match/\"><span class=\"title\">Abdominal Transplant Surgery Match</span></a>\n",
       " <a class=\"individual-boxSMALL\" href=\"http://www.nrmp.org/fellowships/adolescent-medicine-match/\"><span class=\"title\">Adolescent Medicine Match</span></a>\n",
       " <a class=\"individual-boxSMALL\" href=\"http://www.nrmp.org/fellowships/allergy-immunology-match/\"><span class=\"title\">Allergy / Immunology Match</span></a>\n",
       " <a class=\"individual-boxSMALL\" href=\"http://www.nrmp.org/fellowships/anesthesiology-match/\"><span class=\"title\">Anesthesiology Match</span></a>\n",
       " <a class=\"individual-boxSMALL\" href=\"http://www.nrmp.org/fellowships/colon-and-rectal-surgery-match/\"><span class=\"title\">Colon and Rectal Surgery Match</span></a>\n",
       " <a class=\"individual-boxSMALL\" href=\"http://www.nrmp.org/fellowships/combined-musculoskeletal-hand-surgery-matching-program-cmmp-match/\"><span class=\"title\">Combined Musculoskeletal – Hand Surgery Matching Program Match</span></a>\n",
       " <a class=\"individual-boxSMALL\" href=\"http://www.nrmp.org/fellowships/female-pelvic-medicine-and-reconstructive-surgery-match/\"><span class=\"title\">Female Pelvic Medicine and Reconstructive Surgery Match</span></a>\n",
       " <a class=\"individual-boxSMALL\" href=\"http://www.nrmp.org/fellowships/geriatric-medicine-match/\"><span class=\"title\">Geriatric Medicine Match</span></a>\n",
       " <a class=\"individual-boxSMALL\" href=\"http://www.nrmp.org/fellowships/headache-medicine/\"><span class=\"title\">Headache Medicine</span></a>\n",
       " <a class=\"individual-boxSMALL\" href=\"http://www.nrmp.org/fellowships/hospice-palliative-medicine/\"><span class=\"title\">Hospice and Palliative Medicine</span></a>\n",
       " <a class=\"individual-boxSMALL\" href=\"http://www.nrmp.org/fellowships/laryngology-match/\"><span class=\"title\">Laryngology Match</span></a>\n",
       " <a class=\"individual-boxSMALL\" href=\"http://www.nrmp.org/fellowships/medical-genetics-match/\"><span class=\"title\">Medical Genetics Match</span></a>\n",
       " <a class=\"individual-boxSMALL\" href=\"http://www.nrmp.org/fellowships/medical-specialties-matching-program/\"><span class=\"title\">Medical Specialties Matching Program</span></a>\n",
       " <a class=\"individual-boxSMALL\" href=\"http://www.nrmp.org/fellowships/medical-toxicology-match/\"><span class=\"title\">Medical Toxicology Match</span></a>\n",
       " <a class=\"individual-boxSMALL\" href=\"http://www.nrmp.org/fellowships/obstetricsgynecology-match/\"><span class=\"title\">Obstetrics / Gynecology Match</span></a>\n",
       " <a class=\"individual-boxSMALL\" href=\"http://www.nrmp.org/fellowships/pediatric-rehabilitation-medicine-match/\"><span class=\"title\">Pediatric Rehabilitation Medicine Match</span></a>\n",
       " <a class=\"individual-boxSMALL\" href=\"http://www.nrmp.org/fellowships/pediatrics-specialties-fall-match/\"><span class=\"title\">Pediatric Specialties Fall Match</span></a>\n",
       " <a class=\"individual-boxSMALL\" href=\"http://www.nrmp.org/fellowships/pediatrics-specialties-spring-match/\"><span class=\"title\">Pediatric Specialties Spring Match</span></a>\n",
       " <a class=\"individual-boxSMALL\" href=\"http://www.nrmp.org/fellowships/pediatric-surgery-match/\"><span class=\"title\">Pediatric Surgery Match</span></a>\n",
       " <a class=\"individual-boxSMALL\" href=\"http://www.nrmp.org/fellowships/primary-care-sports-medicine-match/\"><span class=\"title\">Primary Care Sports Medicine Match</span></a>\n",
       " <a class=\"individual-boxSMALL\" href=\"http://www.nrmp.org/fellowships/psychiatry-match/\"><span class=\"title\">Psychiatry Match</span></a>\n",
       " <a class=\"individual-boxSMALL\" href=\"http://www.nrmp.org/fellowships/radiology-match/\"><span class=\"title\">Radiology Match</span></a>\n",
       " <a class=\"individual-boxSMALL\" href=\"http://www.nrmp.org/fellowships/sleep-medicine-match/\"><span class=\"title\">Sleep Medicine Match</span></a>\n",
       " <a class=\"individual-boxSMALL\" href=\"http://www.nrmp.org/fellowships/spinal-cord-injury-medicine-match/\"><span class=\"title\">Spinal Cord Injury Medicine Match</span></a>\n",
       " <a class=\"individual-boxSMALL\" href=\"http://www.nrmp.org/fellowships/surgical-critical-care-match/\"><span class=\"title\">Surgical Critical Care Match</span></a>\n",
       " <a class=\"individual-boxSMALL\" href=\"http://www.nrmp.org/fellowships/surgical-oncology-match/\"><span class=\"title\">Surgical Oncology Match</span></a>\n",
       " <a class=\"individual-boxSMALL\" href=\"http://www.nrmp.org/fellowships/thoracic-surgery-match/\"><span class=\"title\">Thoracic Surgery Match</span></a>\n",
       " <a class=\"individual-boxSMALL\" href=\"http://www.nrmp.org/fellowships/vascular-neurology-match/\"><span class=\"title\">Vascular Neurology Match</span></a>\n",
       " <a class=\"individual-boxSMALL\" href=\"http://www.nrmp.org/fellowships/vascular-surgery-match/\"><span class=\"title\">Vascular Surgery Match</span></a>\n",
       " <div class=\"cboth\"></div>\n",
       " </div>]"
      ]
     },
     "execution_count": 4,
     "metadata": {},
     "output_type": "execute_result"
    }
   ],
   "source": [
    "nrmp_soup.find_all(class_=\"main-box\")"
   ]
  },
  {
   "cell_type": "markdown",
   "metadata": {},
   "source": [
    "All of the fellowships have \"span\" tags and the class \"title\" so we make a little for-loop that will print out the text of each span within the \"main-box\" class if it has a tag of \"span\""
   ]
  },
  {
   "cell_type": "code",
   "execution_count": 44,
   "metadata": {
    "collapsed": false
   },
   "outputs": [
    {
     "name": "stdout",
     "output_type": "stream",
     "text": [
      "Abdominal Transplant Surgery\n",
      "Adolescent Medicine\n",
      "Allergy / Immunology\n",
      "Anesthesiology\n",
      "Colon and Rectal Surgery\n",
      "Combined Musculoskeletal – Hand Surgery\n",
      "Female Pelvic Medicine and Reconstructive Surgery\n",
      "Geriatric Medicine\n",
      "Headache Medicine\n",
      "Hospice and Palliative Medicine\n",
      "Laryngology\n",
      "Medical Genetics\n",
      "Medical Specialties\n",
      "Medical Toxicology\n",
      "Obstetrics / Gynecology\n",
      "Pediatric Rehabilitation Medicine\n",
      "Pediatric Specialties Fall\n",
      "Pediatric Specialties Spring\n",
      "Pediatric Surgery\n",
      "Primary Care Sports Medicine\n",
      "Psychiatry\n",
      "Radiology\n",
      "Sleep Medicine\n",
      "Spinal Cord Injury Medicine\n",
      "Surgical Critical Care\n",
      "Surgical Oncology\n",
      "Thoracic Surgery\n",
      "Vascular Neurology\n",
      "Vascular Surgery\n"
     ]
    }
   ],
   "source": [
    "for title in nrmp_soup.find_all(class_=\"main-box\"):\n",
    "    title_descendants = title.descendants\n",
    "    for d in title_descendants:\n",
    "        if d.name == \"span\":\n",
    "            print d.text.split(\" Match\")[0]"
   ]
  },
  {
   "cell_type": "markdown",
   "metadata": {},
   "source": [
    "The goal is to get the data into a format that D3 understands, which is json. The way the json looks is a dictionary with list of dictionaries, which looks like the following for the nodes:\n",
    "\n",
    "`{\"nodes\":[{\"name\":'Abdominal Transplant Surgery Match'},...`\n",
    "\n",
    "I also had to convert the text to utf8 and then to string to get rid of the 'u' that was accompanying the text \n",
    "\n",
    "`str(d.text.encode('utf8'))`"
   ]
  },
  {
   "cell_type": "code",
   "execution_count": 107,
   "metadata": {
    "collapsed": false
   },
   "outputs": [],
   "source": [
    "nodes = []\n",
    "temp_dict = {}\n",
    "for title in nrmp_soup.find_all(class_=\"main-box\"):\n",
    "    title_descendants = title.descendants\n",
    "    for d in title_descendants:\n",
    "        if d.name == \"span\":\n",
    "            temp_dict[\"name\"] = str(d.text.split(\" Match\")[0].encode('utf8')).replace(' \\xe2\\x80\\x93 ', ' ').replace(' / ', '/')\n",
    "            nodes.append(temp_dict.copy())"
   ]
  },
  {
   "cell_type": "code",
   "execution_count": 108,
   "metadata": {
    "collapsed": false
   },
   "outputs": [
    {
     "data": {
      "text/plain": [
       "[{'name': 'Abdominal Transplant Surgery'},\n",
       " {'name': 'Adolescent Medicine'},\n",
       " {'name': 'Allergy/Immunology'},\n",
       " {'name': 'Anesthesiology'},\n",
       " {'name': 'Colon and Rectal Surgery'},\n",
       " {'name': 'Combined Musculoskeletal Hand Surgery'},\n",
       " {'name': 'Female Pelvic Medicine and Reconstructive Surgery'},\n",
       " {'name': 'Geriatric Medicine'},\n",
       " {'name': 'Headache Medicine'},\n",
       " {'name': 'Hospice and Palliative Medicine'},\n",
       " {'name': 'Laryngology'},\n",
       " {'name': 'Medical Genetics'},\n",
       " {'name': 'Medical Specialties'},\n",
       " {'name': 'Medical Toxicology'},\n",
       " {'name': 'Obstetrics/Gynecology'},\n",
       " {'name': 'Pediatric Rehabilitation Medicine'},\n",
       " {'name': 'Pediatric Specialties Fall'},\n",
       " {'name': 'Pediatric Specialties Spring'},\n",
       " {'name': 'Pediatric Surgery'},\n",
       " {'name': 'Primary Care Sports Medicine'},\n",
       " {'name': 'Psychiatry'},\n",
       " {'name': 'Radiology'},\n",
       " {'name': 'Sleep Medicine'},\n",
       " {'name': 'Spinal Cord Injury Medicine'},\n",
       " {'name': 'Surgical Critical Care'},\n",
       " {'name': 'Surgical Oncology'},\n",
       " {'name': 'Thoracic Surgery'},\n",
       " {'name': 'Vascular Neurology'},\n",
       " {'name': 'Vascular Surgery'}]"
      ]
     },
     "execution_count": 108,
     "metadata": {},
     "output_type": "execute_result"
    }
   ],
   "source": [
    "nodes"
   ]
  },
  {
   "cell_type": "markdown",
   "metadata": {},
   "source": [
    "There are 29 felloships listed. I don't want to go each by hand and extract the pertinent information. Luckily, the page structure is consistent throughout:\n",
    "\n",
    "`http://www.nrmp.org/fellowships/[name of fellowhip]/`\n",
    "\n",
    "for example: http://www.nrmp.org/fellowships/adolescent-medicine-match/\n",
    "\n",
    "Luckily, we can just pull the `href` text betwen the `a` tags to get a list of links, like so:"
   ]
  },
  {
   "cell_type": "markdown",
   "metadata": {},
   "source": [
    "### Get list of links for fellowship details"
   ]
  },
  {
   "cell_type": "code",
   "execution_count": 48,
   "metadata": {
    "collapsed": false
   },
   "outputs": [
    {
     "name": "stdout",
     "output_type": "stream",
     "text": [
      "['http://www.nrmp.org/fellowships/abdominal-transplant-surgery-match/', 'http://www.nrmp.org/fellowships/adolescent-medicine-match/', 'http://www.nrmp.org/fellowships/allergy-immunology-match/', 'http://www.nrmp.org/fellowships/anesthesiology-match/', 'http://www.nrmp.org/fellowships/colon-and-rectal-surgery-match/', 'http://www.nrmp.org/fellowships/combined-musculoskeletal-hand-surgery-matching-program-cmmp-match/', 'http://www.nrmp.org/fellowships/female-pelvic-medicine-and-reconstructive-surgery-match/', 'http://www.nrmp.org/fellowships/geriatric-medicine-match/', 'http://www.nrmp.org/fellowships/headache-medicine/', 'http://www.nrmp.org/fellowships/hospice-palliative-medicine/', 'http://www.nrmp.org/fellowships/laryngology-match/', 'http://www.nrmp.org/fellowships/medical-genetics-match/', 'http://www.nrmp.org/fellowships/medical-specialties-matching-program/', 'http://www.nrmp.org/fellowships/medical-toxicology-match/', 'http://www.nrmp.org/fellowships/obstetricsgynecology-match/', 'http://www.nrmp.org/fellowships/pediatric-rehabilitation-medicine-match/', 'http://www.nrmp.org/fellowships/pediatrics-specialties-fall-match/', 'http://www.nrmp.org/fellowships/pediatrics-specialties-spring-match/', 'http://www.nrmp.org/fellowships/pediatric-surgery-match/', 'http://www.nrmp.org/fellowships/primary-care-sports-medicine-match/', 'http://www.nrmp.org/fellowships/psychiatry-match/', 'http://www.nrmp.org/fellowships/radiology-match/', 'http://www.nrmp.org/fellowships/sleep-medicine-match/', 'http://www.nrmp.org/fellowships/spinal-cord-injury-medicine-match/', 'http://www.nrmp.org/fellowships/surgical-critical-care-match/', 'http://www.nrmp.org/fellowships/surgical-oncology-match/', 'http://www.nrmp.org/fellowships/thoracic-surgery-match/', 'http://www.nrmp.org/fellowships/vascular-neurology-match/', 'http://www.nrmp.org/fellowships/vascular-surgery-match/']\n"
     ]
    }
   ],
   "source": [
    "# fellowships_lol = [name.values() for name in nodes] # returns list of lists\n",
    "# fellowships = [name for sublist in fellowships_lol for name in sublist] # flattens list of lists\n",
    "# fellowships\n",
    "\n",
    "fellowship_links = []\n",
    "for title in nrmp_soup.find_all(class_=\"main-box\"):\n",
    "    for a in title.find_all('a', href=True):\n",
    "        fellowship_links.append(a['href'])\n",
    "print fellowship_links"
   ]
  },
  {
   "cell_type": "markdown",
   "metadata": {},
   "source": [
    "### Test script for pulling details from fellowship page"
   ]
  },
  {
   "cell_type": "code",
   "execution_count": 80,
   "metadata": {
    "collapsed": false
   },
   "outputs": [],
   "source": [
    "adolescent_med = urllib.urlopen(\"http://www.nrmp.org/fellowships/abdominal-transplant-surgery-match/\").read()\n",
    "adolescent_med_soup = BeautifulSoup(adolescent_med)"
   ]
  },
  {
   "cell_type": "markdown",
   "metadata": {},
   "source": [
    "### Pull relevant information\n",
    "\n",
    "This step is a bit mor involved. Here's what we want to do:\n",
    "\n",
    "1. Go to each page in the list\n",
    "2. Pull residency that must be completed\n",
    "3. Add the residency that must be completed to the list of nodes\n",
    "4. Convert `nodes` from list to dict with `nodes = dict({\"nodes\": nodes})`"
   ]
  },
  {
   "cell_type": "code",
   "execution_count": 55,
   "metadata": {
    "collapsed": false
   },
   "outputs": [
    {
     "data": {
      "text/plain": [
       "u'<!DOCTYPE html>\\n<html lang=\"en-US\">\\n <head>\\n  <meta charset=\"utf-8\"/>\\n  <meta content=\"width=1150\" name=\"viewport\"/>\\n  <link href=\"http://gmpg.org/xfn/11\" rel=\"profile\"/>\\n  <link href=\"http://www.nrmp.org/xmlrpc.php\" rel=\"pingback\"/>\\n  <title>\\n   Adolescent Medicine Match |\\n  </title>\\n  <script type=\"text/javascript\">\\n   window._wpemojiSettings = {\"baseUrl\":\"http:\\\\/\\\\/s.w.org\\\\/images\\\\/core\\\\/emoji\\\\/72x72\\\\/\",\"ext\":\".png\",\"source\":{\"concatemoji\":\"http:\\\\/\\\\/www.nrmp.org\\\\/wp-includes\\\\/js\\\\/wp-emoji-release.min.js?ver=4.3\"}};\\n\\t\\t\\t!function(a,b,c){function d(a){var c=b.createElement(\"canvas\"),d=c.getContext&&c.getContext(\"2d\");return d&&d.fillText?(d.textBaseline=\"top\",d.font=\"600 32px Arial\",\"flag\"===a?(d.fillText(String.fromCharCode(55356,56812,55356,56807),0,0),c.toDataURL().length>3e3):(d.fillText(String.fromCharCode(55357,56835),0,0),0!==d.getImageData(16,16,1,1).data[0])):!1}function e(a){var c=b.createElement(\"script\");c.src=a,c.type=\"text/javascript\",b.getElementsByTagName(\"head\")[0].appe'"
      ]
     },
     "execution_count": 55,
     "metadata": {},
     "output_type": "execute_result"
    }
   ],
   "source": [
    "adolescent_med_soup.prettify()[0:1000] #inspect"
   ]
  },
  {
   "cell_type": "code",
   "execution_count": 56,
   "metadata": {
    "collapsed": false
   },
   "outputs": [],
   "source": [
    "# for chunk in adolescent_med_soup.find_all(class_=\"match-row\"):\n",
    "#     residency = str(chunk.find(\"li\").string).split('in ')[1:]\n",
    "#     residency_text = ', '.join(residency)\n",
    "#     residency_list = residency_text.split(', ')"
   ]
  },
  {
   "cell_type": "code",
   "execution_count": 98,
   "metadata": {
    "collapsed": false
   },
   "outputs": [
    {
     "name": "stdout",
     "output_type": "stream",
     "text": [
      "['General Surgery', 'Urology']\n"
     ]
    }
   ],
   "source": [
    "for chunk in adolescent_med_soup.find_all(class_=\"match-row\"):\n",
    "    residency = str(chunk.find(\"li\").string).split('in ')[1:]\n",
    "    residency_text = ', '.join(residency)\n",
    "    residency_list = residency_text.split(' or ')\n",
    "#     pattern = re.compile(\"(or)\\W\", re.I)\n",
    "#     residency_list = map(lambda residency: pattern.sub(\"\", residency),  residency_list)\n",
    "print residency_list"
   ]
  },
  {
   "cell_type": "markdown",
   "metadata": {},
   "source": [
    "Now that we have a clean list of residencies, we need to put them in the right json format like we did the fellowships:"
   ]
  },
  {
   "cell_type": "code",
   "execution_count": 13,
   "metadata": {
    "collapsed": false
   },
   "outputs": [
    {
     "data": {
      "text/plain": [
       "[{'name': 'Abdominal Transplant Surgery Match'},\n",
       " {'name': 'Adolescent Medicine Match'},\n",
       " {'name': 'Allergy/Immunology Match'},\n",
       " {'name': 'Anesthesiology Match'},\n",
       " {'name': 'Colon and Rectal Surgery Match'},\n",
       " {'name': 'Combined Musculoskeletal Hand Surgery Matching Program Match'},\n",
       " {'name': 'Female Pelvic Medicine and Reconstructive Surgery Match'},\n",
       " {'name': 'Geriatric Medicine Match'},\n",
       " {'name': 'Headache Medicine'},\n",
       " {'name': 'Hospice and Palliative Medicine'},\n",
       " {'name': 'Laryngology Match'},\n",
       " {'name': 'Medical Genetics Match'},\n",
       " {'name': 'Medical Specialties Matching Program'},\n",
       " {'name': 'Medical Toxicology Match'},\n",
       " {'name': 'Obstetrics/Gynecology Match'},\n",
       " {'name': 'Pediatric Rehabilitation Medicine Match'},\n",
       " {'name': 'Pediatric Specialties Fall Match'},\n",
       " {'name': 'Pediatric Specialties Spring Match'},\n",
       " {'name': 'Pediatric Surgery Match'},\n",
       " {'name': 'Primary Care Sports Medicine Match'},\n",
       " {'name': 'Psychiatry Match'},\n",
       " {'name': 'Radiology Match'},\n",
       " {'name': 'Sleep Medicine Match'},\n",
       " {'name': 'Spinal Cord Injury Medicine Match'},\n",
       " {'name': 'Surgical Critical Care Match'},\n",
       " {'name': 'Surgical Oncology Match'},\n",
       " {'name': 'Thoracic Surgery Match'},\n",
       " {'name': 'Vascular Neurology Match'},\n",
       " {'name': 'Vascular Surgery Match'},\n",
       " {'name': 'Pediatrics'},\n",
       " {'name': 'Medicine-Pediatrics'},\n",
       " {'name': 'Internal Medicine'},\n",
       " {'name': 'Family Medicine'}]"
      ]
     },
     "execution_count": 13,
     "metadata": {},
     "output_type": "execute_result"
    }
   ],
   "source": []
  },
  {
   "cell_type": "code",
   "execution_count": 109,
   "metadata": {
    "collapsed": false
   },
   "outputs": [
    {
     "name": "stdout",
     "output_type": "stream",
     "text": [
      "http://www.nrmp.org/fellowships/allergy-immunology-match/ did not work\n",
      "http://www.nrmp.org/fellowships/geriatric-medicine-match/ did not work\n",
      "http://www.nrmp.org/fellowships/medical-genetics-match/ did not work\n"
     ]
    },
    {
     "data": {
      "text/plain": [
       "[{'name': 'Abdominal Transplant Surgery'},\n",
       " {'name': 'Adolescent Medicine'},\n",
       " {'name': 'Allergy/Immunology'},\n",
       " {'name': 'Anesthesiology'},\n",
       " {'name': 'Colon and Rectal Surgery'},\n",
       " {'name': 'Combined Musculoskeletal Hand Surgery'},\n",
       " {'name': 'Female Pelvic Medicine and Reconstructive Surgery'},\n",
       " {'name': 'Geriatric Medicine'},\n",
       " {'name': 'Headache Medicine'},\n",
       " {'name': 'Hospice and Palliative Medicine'},\n",
       " {'name': 'Laryngology'},\n",
       " {'name': 'Medical Genetics'},\n",
       " {'name': 'Medical Specialties'},\n",
       " {'name': 'Medical Toxicology'},\n",
       " {'name': 'Obstetrics/Gynecology'},\n",
       " {'name': 'Pediatric Rehabilitation Medicine'},\n",
       " {'name': 'Pediatric Specialties Fall'},\n",
       " {'name': 'Pediatric Specialties Spring'},\n",
       " {'name': 'Pediatric Surgery'},\n",
       " {'name': 'Primary Care Sports Medicine'},\n",
       " {'name': 'Psychiatry'},\n",
       " {'name': 'Radiology'},\n",
       " {'name': 'Sleep Medicine'},\n",
       " {'name': 'Spinal Cord Injury Medicine'},\n",
       " {'name': 'Surgical Critical Care'},\n",
       " {'name': 'Surgical Oncology'},\n",
       " {'name': 'Thoracic Surgery'},\n",
       " {'name': 'Vascular Neurology'},\n",
       " {'name': 'Vascular Surgery'},\n",
       " {'name': 'General Surgery'},\n",
       " {'name': 'Urology'},\n",
       " {'name': 'Pediatrics'},\n",
       " {'name': 'Medicine-Pediatrics'},\n",
       " {'name': 'Internal Medicine'},\n",
       " {'name': 'Family Medicine'},\n",
       " {'name': ''},\n",
       " {'name': 'Orthopedic Surgery'},\n",
       " {'name': 'Plastic Surgery'},\n",
       " {'name': 'Specialties Including But Not Limited To Neurology'},\n",
       " {'name': 'Internal Medicine'},\n",
       " {'name': 'Pediatrics'},\n",
       " {'name': 'Child Neurology'},\n",
       " {'name': 'Family Medicine'},\n",
       " {'name': 'Anesthesiology'},\n",
       " {'name': 'Physical Medicine And Rehabilitation'},\n",
       " {'name': 'Psychiatry'},\n",
       " {'name': 'Obstetrics And Gynecology.'},\n",
       " {'name': 'Child Neurology'},\n",
       " {'name': 'Family Medicine'},\n",
       " {'name': 'Internal Medicine'},\n",
       " {'name': 'Pediatrics'},\n",
       " {'name': 'Physical Medicine And Rehabilitation'},\n",
       " {'name': 'Neurology; At Least Three Clinical Years '},\n",
       " {'name': 'An Acgme-Rcpsc-Accredited Graduate Educational Program '},\n",
       " {'name': 'One Of The Following Specialties: Anesthesiology'},\n",
       " {'name': 'Emergency Medicine'},\n",
       " {'name': 'Obstetrics And Gynecology'},\n",
       " {'name': 'Psychiatry'},\n",
       " {'name': 'Radiation Oncology'},\n",
       " {'name': 'Radiology'},\n",
       " {'name': 'Surgery.'},\n",
       " {'name': 'Otolaryngology'},\n",
       " {'name': 'Occupational Medicine'},\n",
       " {'name': 'Length Fapplicants Who Have Completed A Residency '},\n",
       " {'name': 'Physical Medicine And Rehabilitation'},\n",
       " {'name': 'Pediatrics Physical Medicine And Rehabilitation'},\n",
       " {'name': 'Neurology'},\n",
       " {'name': 'Otolaryngology Family Medicine'},\n",
       " {'name': 'Length.'},\n",
       " {'name': 'Neurological Surgery'},\n",
       " {'name': 'Obstetrics And Gynecology'},\n",
       " {'name': 'Orthopaedic Surgery'},\n",
       " {'name': 'Surgery'}]"
      ]
     },
     "execution_count": 109,
     "metadata": {},
     "output_type": "execute_result"
    }
   ],
   "source": [
    "for link in fellowship_links:\n",
    "    try:\n",
    "        fellowship_link = urllib.urlopen(link).read()\n",
    "        fellowship_link_soup = BeautifulSoup(fellowship_link)\n",
    "        for chunk in fellowship_link_soup.find_all(class_=\"match-row\"):\n",
    "            residency = str(chunk.find(\"li\").string).split('in ')[1:]\n",
    "            residency_text = ', '.join(residency)\n",
    "            if \",\" in residency_text:\n",
    "                residency_list = residency_text.split(', ')\n",
    "                pattern = re.compile(\"(or)\\W\", re.I)\n",
    "                residency_list = map(lambda residency: pattern.sub(\"\", residency),  residency_list)\n",
    "            else:\n",
    "                residency_list = re.split((' or '), residency_text)\n",
    "        for residency in residency_list:\n",
    "            temp_dict[\"name\"] = residency.title()\n",
    "            if not any(d['name'] == residency for d in nodes):\n",
    "                nodes.append(temp_dict.copy())\n",
    "            else:\n",
    "                pass\n",
    "    except:\n",
    "        print \"%s did not work\" %(link)\n",
    "nodes"
   ]
  },
  {
   "cell_type": "markdown",
   "metadata": {},
   "source": [
    "Now we have a clean set of nodes.\n",
    "\n",
    "Now that we can do this scraping for one fellowship/residency, we need to do it for all of them:"
   ]
  },
  {
   "cell_type": "code",
   "execution_count": null,
   "metadata": {
    "collapsed": false
   },
   "outputs": [],
   "source": [
    "for link in fellowship_links:\n",
    "    fellowship_link = urllib.urlopen(link).read()\n",
    "    fellowship_link_soup = BeautifulSoup(adolescent_med)\n",
    "    for chunk in fellowship_link_soup.find_all(class_=\"match-row\"):\n",
    "        residency = str(chunk.find(\"li\").string).split('in ')[1:]\n",
    "        residency_text = ', '.join(residency)\n",
    "        residency_list = residency_text.split(', ')\n",
    "        pattern = re.compile(\"(or)\\W\", re.I)\n",
    "        residency_list = map(lambda residency: pattern.sub(\"\", residency),  residency_list)\n",
    "        for residency in residency_list:\n",
    "            temp_dict[\"name\"] = residency\n",
    "            for i in range(len(nodes)):\n",
    "                if residency not in nodes[i].values():\n",
    "                    nodes.append(temp_dict.copy())\n",
    "                else:\n",
    "                    pass\n",
    "nodes"
   ]
  },
  {
   "cell_type": "code",
   "execution_count": 36,
   "metadata": {
    "collapsed": false
   },
   "outputs": [
    {
     "data": {
      "text/plain": [
       "True"
      ]
     },
     "execution_count": 36,
     "metadata": {},
     "output_type": "execute_result"
    }
   ],
   "source": [
    "'Adolescent Medicine Match' in nodes[1].values()"
   ]
  },
  {
   "cell_type": "code",
   "execution_count": 37,
   "metadata": {
    "collapsed": false
   },
   "outputs": [
    {
     "data": {
      "text/plain": [
       "[{'name': 'Abdominal Transplant Surgery Match'},\n",
       " {'name': 'Adolescent Medicine Match'},\n",
       " {'name': 'Allergy/Immunology Match'},\n",
       " {'name': 'Anesthesiology Match'},\n",
       " {'name': 'Colon and Rectal Surgery Match'},\n",
       " {'name': 'Combined Musculoskeletal Hand Surgery Matching Program Match'},\n",
       " {'name': 'Female Pelvic Medicine and Reconstructive Surgery Match'},\n",
       " {'name': 'Geriatric Medicine Match'},\n",
       " {'name': 'Headache Medicine'},\n",
       " {'name': 'Hospice and Palliative Medicine'},\n",
       " {'name': 'Laryngology Match'},\n",
       " {'name': 'Medical Genetics Match'},\n",
       " {'name': 'Medical Specialties Matching Program'},\n",
       " {'name': 'Medical Toxicology Match'},\n",
       " {'name': 'Obstetrics/Gynecology Match'},\n",
       " {'name': 'Pediatric Rehabilitation Medicine Match'},\n",
       " {'name': 'Pediatric Specialties Fall Match'},\n",
       " {'name': 'Pediatric Specialties Spring Match'},\n",
       " {'name': 'Pediatric Surgery Match'},\n",
       " {'name': 'Primary Care Sports Medicine Match'},\n",
       " {'name': 'Psychiatry Match'},\n",
       " {'name': 'Radiology Match'},\n",
       " {'name': 'Sleep Medicine Match'},\n",
       " {'name': 'Spinal Cord Injury Medicine Match'},\n",
       " {'name': 'Surgical Critical Care Match'},\n",
       " {'name': 'Surgical Oncology Match'},\n",
       " {'name': 'Thoracic Surgery Match'},\n",
       " {'name': 'Vascular Neurology Match'},\n",
       " {'name': 'Vascular Surgery Match'}]"
      ]
     },
     "execution_count": 37,
     "metadata": {},
     "output_type": "execute_result"
    }
   ],
   "source": [
    "nodes"
   ]
  },
  {
   "cell_type": "code",
   "execution_count": null,
   "metadata": {
    "collapsed": true
   },
   "outputs": [],
   "source": []
  }
 ],
 "metadata": {
  "kernelspec": {
   "display_name": "Python 2",
   "language": "python",
   "name": "python2"
  },
  "language_info": {
   "codemirror_mode": {
    "name": "ipython",
    "version": 2
   },
   "file_extension": ".py",
   "mimetype": "text/x-python",
   "name": "python",
   "nbconvert_exporter": "python",
   "pygments_lexer": "ipython2",
   "version": "2.7.10"
  }
 },
 "nbformat": 4,
 "nbformat_minor": 0
}
